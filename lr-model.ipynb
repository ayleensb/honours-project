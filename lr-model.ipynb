{
 "cells": [
  {
   "cell_type": "markdown",
   "id": "0176714b-31db-4f56-8eba-5f2b34988147",
   "metadata": {},
   "source": [
    "# Logistic regression model for fair recidivism prediction tasks."
   ]
  },
  {
   "cell_type": "markdown",
   "id": "3fbbc536-22c7-4069-afcc-47901989ec98",
   "metadata": {},
   "source": [
    "#### COMPAS dataset"
   ]
  },
  {
   "cell_type": "code",
   "execution_count": null,
   "id": "41abbb43-9bbb-436b-86de-d2d6a5430652",
   "metadata": {},
   "outputs": [],
   "source": []
  }
 ],
 "metadata": {
  "kernelspec": {
   "display_name": "Python 3 (ipykernel)",
   "language": "python",
   "name": "python3"
  },
  "language_info": {
   "codemirror_mode": {
    "name": "ipython",
    "version": 3
   },
   "file_extension": ".py",
   "mimetype": "text/x-python",
   "name": "python",
   "nbconvert_exporter": "python",
   "pygments_lexer": "ipython3",
   "version": "3.11.5"
  }
 },
 "nbformat": 4,
 "nbformat_minor": 5
}
